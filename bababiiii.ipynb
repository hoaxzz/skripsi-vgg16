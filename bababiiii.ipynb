import tensorflow as tf
import numpy
import pandas as pd

tf.__version__