{
 "cells": [
  {
   "cell_type": "code",
   "execution_count": 1,
   "metadata": {},
   "outputs": [],
   "source": [
    "import tensorflow as tf\n",
    "from tensorflow import keras"
   ]
  },
  {
   "cell_type": "code",
   "execution_count": 3,
   "metadata": {},
   "outputs": [],
   "source": [
    "import os"
   ]
  },
  {
   "cell_type": "code",
   "execution_count": 4,
   "metadata": {},
   "outputs": [],
   "source": [
    "mypath= 'C:/Users/akip/Desktop/vgg16/Citrus Leaf Disease Image'"
   ]
  },
  {
   "cell_type": "code",
   "execution_count": 5,
   "metadata": {},
   "outputs": [],
   "source": [
    "file_name = []\n",
    "tag = []\n",
    "full_path = []\n",
    "for path, subdirs, files in os.walk(mypath):\n",
    "    for name in files:\n",
    "        full_path.append(os.path.join(path, name)) \n",
    "        tag.append(path.split('/')[-1])        \n",
    "        file_name.append(name)"
   ]
  },
  {
   "cell_type": "code",
   "execution_count": 6,
   "metadata": {},
   "outputs": [],
   "source": [
    "import pandas as pd"
   ]
  },
  {
   "cell_type": "code",
   "execution_count": 7,
   "metadata": {},
   "outputs": [
    {
     "data": {
      "text/plain": [
       "tag\n",
       "Citrus Leaf Disease Image\\Black spot    169\n",
       "Citrus Leaf Disease Image\\Canker        163\n",
       "Citrus Leaf Disease Image\\Greening      204\n",
       "Citrus Leaf Disease Image\\Healthy        58\n",
       "Citrus Leaf Disease Image\\Melanose       13\n",
       "dtype: int64"
      ]
     },
     "execution_count": 7,
     "metadata": {},
     "output_type": "execute_result"
    }
   ],
   "source": [
    "# memasukan variabel yang sudah dikumpulkan pada looping di atas menjadi sebuah dataframe agar rapih\n",
    "df = pd.DataFrame({\"path\":full_path,'file_name':file_name,\"tag\":tag})\n",
    "df.groupby(['tag']).size()"
   ]
  },
  {
   "cell_type": "code",
   "execution_count": 8,
   "metadata": {},
   "outputs": [],
   "source": [
    "#load library untuk train test split\n",
    "from sklearn.model_selection import train_test_split"
   ]
  },
  {
   "cell_type": "code",
   "execution_count": 9,
   "metadata": {},
   "outputs": [],
   "source": [
    "#variabel yang digunakan pada pemisahan data ini\n",
    "X= df['path']\n",
    "y= df['tag']"
   ]
  },
  {
   "cell_type": "code",
   "execution_count": 11,
   "metadata": {},
   "outputs": [],
   "source": [
    "# split dataset awal menjadi data train dan test\n",
    "X_train, X_test, y_train, y_test = train_test_split(\n",
    "    X, y, test_size=0.20, random_state=300)"
   ]
  },
  {
   "cell_type": "code",
   "execution_count": 12,
   "metadata": {},
   "outputs": [],
   "source": [
    "# kemudian data test dibagi menjadi 2 sehingga menjadi data test dan data validation.\n",
    "X_test, X_val, y_test, y_val = train_test_split(\n",
    "    X_test, y_test, test_size=0.5, random_state=100)"
   ]
  },
  {
   "cell_type": "code",
   "execution_count": 13,
   "metadata": {},
   "outputs": [],
   "source": [
    "# menyatukan kedalam masing-masing dataframe\n",
    "\n",
    "df_tr = pd.DataFrame({'path':X_train\n",
    "              ,'tag':y_train\n",
    "             ,'set':'train'})\n",
    "\n",
    "df_te = pd.DataFrame({'path':X_test\n",
    "              ,'tag':y_test\n",
    "             ,'set':'test'})\n",
    "\n",
    "df_val = pd.DataFrame({'path':X_val\n",
    "              ,'tag':y_val\n",
    "             ,'set':'validation'})"
   ]
  },
  {
   "cell_type": "code",
   "execution_count": 14,
   "metadata": {},
   "outputs": [
    {
     "name": "stdout",
     "output_type": "stream",
     "text": [
      "train size 485\n",
      "val size 61\n",
      "test size 61\n"
     ]
    }
   ],
   "source": [
    "print('train size', len(df_tr))\n",
    "print('val size', len(df_te))\n",
    "print('test size', len(df_val))"
   ]
  },
  {
   "cell_type": "code",
   "execution_count": 17,
   "metadata": {},
   "outputs": [
    {
     "name": "stdout",
     "output_type": "stream",
     "text": [
      "===================================================== \n",
      "\n",
      "set         tag                                 \n",
      "test        Citrus Leaf Disease Image\\Black spot     14\n",
      "            Citrus Leaf Disease Image\\Canker         17\n",
      "            Citrus Leaf Disease Image\\Greening       22\n",
      "            Citrus Leaf Disease Image\\Healthy         8\n",
      "train       Citrus Leaf Disease Image\\Black spot    140\n",
      "            Citrus Leaf Disease Image\\Canker        130\n",
      "            Citrus Leaf Disease Image\\Greening      159\n",
      "            Citrus Leaf Disease Image\\Healthy        44\n",
      "            Citrus Leaf Disease Image\\Melanose       12\n",
      "validation  Citrus Leaf Disease Image\\Black spot     15\n",
      "            Citrus Leaf Disease Image\\Canker         16\n",
      "            Citrus Leaf Disease Image\\Greening       23\n",
      "            Citrus Leaf Disease Image\\Healthy         6\n",
      "            Citrus Leaf Disease Image\\Melanose        1\n",
      "dtype: int64 \n",
      "\n"
     ]
    },
    {
     "data": {
      "text/html": [
       "<div>\n",
       "<style scoped>\n",
       "    .dataframe tbody tr th:only-of-type {\n",
       "        vertical-align: middle;\n",
       "    }\n",
       "\n",
       "    .dataframe tbody tr th {\n",
       "        vertical-align: top;\n",
       "    }\n",
       "\n",
       "    .dataframe thead th {\n",
       "        text-align: right;\n",
       "    }\n",
       "</style>\n",
       "<table border=\"1\" class=\"dataframe\">\n",
       "  <thead>\n",
       "    <tr style=\"text-align: right;\">\n",
       "      <th></th>\n",
       "      <th>path</th>\n",
       "      <th>tag</th>\n",
       "      <th>set</th>\n",
       "    </tr>\n",
       "  </thead>\n",
       "  <tbody>\n",
       "    <tr>\n",
       "      <th>452</th>\n",
       "      <td>C:/Users/akip/Desktop/vgg16/Citrus Leaf Diseas...</td>\n",
       "      <td>Citrus Leaf Disease Image\\Greening</td>\n",
       "      <td>train</td>\n",
       "    </tr>\n",
       "    <tr>\n",
       "      <th>327</th>\n",
       "      <td>C:/Users/akip/Desktop/vgg16/Citrus Leaf Diseas...</td>\n",
       "      <td>Citrus Leaf Disease Image\\Greening</td>\n",
       "      <td>train</td>\n",
       "    </tr>\n",
       "    <tr>\n",
       "      <th>18</th>\n",
       "      <td>C:/Users/akip/Desktop/vgg16/Citrus Leaf Diseas...</td>\n",
       "      <td>Citrus Leaf Disease Image\\Canker</td>\n",
       "      <td>train</td>\n",
       "    </tr>\n",
       "  </tbody>\n",
       "</table>\n",
       "</div>"
      ],
      "text/plain": [
       "                                                  path  \\\n",
       "452  C:/Users/akip/Desktop/vgg16/Citrus Leaf Diseas...   \n",
       "327  C:/Users/akip/Desktop/vgg16/Citrus Leaf Diseas...   \n",
       "18   C:/Users/akip/Desktop/vgg16/Citrus Leaf Diseas...   \n",
       "\n",
       "                                    tag    set  \n",
       "452  Citrus Leaf Disease Image\\Greening  train  \n",
       "327  Citrus Leaf Disease Image\\Greening  train  \n",
       "18     Citrus Leaf Disease Image\\Canker  train  "
      ]
     },
     "execution_count": 17,
     "metadata": {},
     "output_type": "execute_result"
    }
   ],
   "source": [
    "import pandas as pd\n",
    "\n",
    "# Assuming df_tr, df_te, and df_val are your DataFrames\n",
    "\n",
    "# Concatenate the DataFrames\n",
    "df_all = pd.concat([df_tr, df_te, df_val], ignore_index=True)\n",
    "\n",
    "# Resetting the index\n",
    "df_all.reset_index(drop=True, inplace=True)\n",
    "\n",
    "# Print the result\n",
    "print('===================================================== \\n')\n",
    "print(df_all.groupby(['set', 'tag']).size(), '\\n')\n",
    "\n",
    "\n",
    "# # melihat proporsi pada masing masing set apakah sudah ok atau masih ada yang ingin diubah\n",
    "# df_all = df_tr.append([df_te,df_val]).reset_index(drop=1)\\\n",
    "\n",
    "# print('===================================================== \\n')\n",
    "# print(df_all.groupby(['set','tag']).size(),'\\n')\n",
    "\n",
    "# print('===================================================== \\n')\n",
    "\n",
    "#cek sample datanya\n",
    "df_all.sample(3)"
   ]
  },
  {
   "cell_type": "code",
   "execution_count": 18,
   "metadata": {},
   "outputs": [],
   "source": [
    "import shutil\n",
    "from tqdm.notebook import tqdm as tq"
   ]
  },
  {
   "cell_type": "code",
   "execution_count": 19,
   "metadata": {},
   "outputs": [],
   "source": [
    "datasource_path = \"C:/Users/akip/Desktop/vgg16/Citrus Leaf Disease Image\"\n",
    "dataset_path = \"C:/Users/akip/Desktop/vgg16/testTrain\""
   ]
  },
  {
   "cell_type": "code",
   "execution_count": 21,
   "metadata": {},
   "outputs": [
    {
     "name": "stderr",
     "output_type": "stream",
     "text": [
      "Processing rows: 100%|██████████| 607/607 [00:06<00:00, 100.21it/s]\n"
     ]
    }
   ],
   "source": [
    "import os\n",
    "import shutil\n",
    "import pandas as pd\n",
    "from tqdm import tqdm  # Assuming `tq` refers to tqdm\n",
    "\n",
    "for index, row in tqdm(df_all.iterrows(), total=len(df_all), desc='Processing rows'):\n",
    "    # Check for NaN values in the 'path' column\n",
    "    if pd.isna(row['path']):\n",
    "        continue  # Skip rows with NaN paths\n",
    "\n",
    "    # Detect filepath\n",
    "    file_path = row['path']\n",
    "    if not os.path.exists(file_path):\n",
    "        file_path = os.path.join(datasource_path, row['tag'], row['image'].split('.')[0])\n",
    "\n",
    "    # Make folder destination dirs\n",
    "    destination_folder = os.path.join(dataset_path, row['set'], row['tag'])\n",
    "    os.makedirs(destination_folder, exist_ok=True)\n",
    "\n",
    "    # Define file dest\n",
    "    destination_file_name = os.path.split(file_path)[-1]\n",
    "    file_dest = os.path.join(destination_folder, destination_file_name)\n",
    "\n",
    "    # Copy file from source to dest\n",
    "    if not os.path.exists(file_dest):\n",
    "        shutil.copy2(file_path, file_dest)\n",
    "\n",
    "\n",
    "# for index, row in tq(df_all.iterrows()):\n",
    "    \n",
    "#     #detect filepath\n",
    "#     file_path = row['path']\n",
    "#     if os.path.exists(file_path) == False:\n",
    "#             file_path = os.path.join(datasource_path,row['tag'],row['image'].split('.')[0])            \n",
    "    \n",
    "#     #make folder destination dirs\n",
    "#     if os.path.exists(os.path.join(dataset_path,row['set'],row['tag'])) == False:\n",
    "#         os.makedirs(os.path.join(dataset_path,row['set'],row['tag']))\n",
    "    \n",
    "#     #define file dest\n",
    "#     destination_file_name = file_path.split('/')[-1]\n",
    "#     file_dest = os.path.join(dataset_path,row['set'],row['tag'],destination_file_name)\n",
    "    \n",
    "#     #copy file from source to dest\n",
    "#     if os.path.exists(file_dest) == False:\n",
    "#         shutil.copy2(file_path,file_dest)"
   ]
  },
  {
   "cell_type": "code",
   "execution_count": null,
   "metadata": {},
   "outputs": [],
   "source": []
  }
 ],
 "metadata": {
  "kernelspec": {
   "display_name": "Python 3",
   "language": "python",
   "name": "python3"
  },
  "language_info": {
   "codemirror_mode": {
    "name": "ipython",
    "version": 3
   },
   "file_extension": ".py",
   "mimetype": "text/x-python",
   "name": "python",
   "nbconvert_exporter": "python",
   "pygments_lexer": "ipython3",
   "version": "3.11.3"
  }
 },
 "nbformat": 4,
 "nbformat_minor": 2
}
